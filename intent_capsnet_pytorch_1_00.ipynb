{
  "nbformat": 4,
  "nbformat_minor": 0,
  "metadata": {
    "accelerator": "GPU",
    "colab": {
      "name": "intent-capsnet-pytorch 1 00.ipynb",
      "provenance": [],
      "collapsed_sections": [],
      "authorship_tag": "ABX9TyN4xGu3OsEVobYMVTbY0gcu",
      "include_colab_link": true
    },
    "kernelspec": {
      "display_name": "Python 3",
      "name": "python3"
    },
    "language_info": {
      "name": "python"
    }
  },
  "cells": [
    {
      "cell_type": "markdown",
      "metadata": {
        "id": "view-in-github",
        "colab_type": "text"
      },
      "source": [
        "<a href=\"https://colab.research.google.com/github/JamshedJaved/taymoor/blob/main/intent_capsnet_pytorch_1_00.ipynb\" target=\"_parent\"><img src=\"https://colab.research.google.com/assets/colab-badge.svg\" alt=\"Open In Colab\"/></a>"
      ]
    },
    {
      "cell_type": "code",
      "metadata": {
        "colab": {
          "base_uri": "https://localhost:8080/"
        },
        "id": "4cRxIVspMP42",
        "outputId": "ead2ed15-cc91-4a3a-c087-2e25f264cccd"
      },
      "source": [
        "!git clone https://github.com/devjwsong/intent-capsnet-pytorch.git"
      ],
      "execution_count": null,
      "outputs": [
        {
          "name": "stdout",
          "output_type": "stream",
          "text": [
            "Cloning into 'intent-capsnet-pytorch'...\n",
            "remote: Enumerating objects: 127, done.\u001b[K\n",
            "remote: Counting objects: 100% (127/127), done.\u001b[K\n",
            "remote: Compressing objects: 100% (101/101), done.\u001b[K\n",
            "remote: Total 127 (delta 58), reused 82 (delta 25), pack-reused 0\u001b[K\n",
            "Receiving objects: 100% (127/127), 460.47 KiB | 4.43 MiB/s, done.\n",
            "Resolving deltas: 100% (58/58), done.\n"
          ]
        }
      ]
    },
    {
      "cell_type": "code",
      "metadata": {
        "colab": {
          "base_uri": "https://localhost:8080/"
        },
        "id": "FzQquR-yPvEN",
        "outputId": "eb55e6d0-25f5-4052-84e8-80eb93a0fa53"
      },
      "source": [
        "%cd intent-capsnet-pytorch"
      ],
      "execution_count": null,
      "outputs": [
        {
          "name": "stdout",
          "output_type": "stream",
          "text": [
            "/content/intent-capsnet-pytorch\n"
          ]
        }
      ]
    },
    {
      "cell_type": "code",
      "metadata": {
        "colab": {
          "base_uri": "https://localhost:8080/"
        },
        "id": "-rW7_YPAVDbs",
        "outputId": "6512e90e-2756-4add-e44d-17ff310c8ce0"
      },
      "source": [
        "!pip install transformers\n",
        "import codecs\n"
      ],
      "execution_count": null,
      "outputs": [
        {
          "name": "stdout",
          "output_type": "stream",
          "text": [
            "Collecting transformers\n",
            "  Downloading transformers-4.9.2-py3-none-any.whl (2.6 MB)\n",
            "\u001b[K     |████████████████████████████████| 2.6 MB 5.3 MB/s \n",
            "\u001b[?25hRequirement already satisfied: packaging in /usr/local/lib/python3.7/dist-packages (from transformers) (21.0)\n",
            "Requirement already satisfied: numpy>=1.17 in /usr/local/lib/python3.7/dist-packages (from transformers) (1.19.5)\n",
            "Requirement already satisfied: tqdm>=4.27 in /usr/local/lib/python3.7/dist-packages (from transformers) (4.62.0)\n",
            "Requirement already satisfied: regex!=2019.12.17 in /usr/local/lib/python3.7/dist-packages (from transformers) (2019.12.20)\n",
            "Collecting sacremoses\n",
            "  Downloading sacremoses-0.0.45-py3-none-any.whl (895 kB)\n",
            "\u001b[K     |████████████████████████████████| 895 kB 50.7 MB/s \n",
            "\u001b[?25hRequirement already satisfied: filelock in /usr/local/lib/python3.7/dist-packages (from transformers) (3.0.12)\n",
            "Requirement already satisfied: requests in /usr/local/lib/python3.7/dist-packages (from transformers) (2.23.0)\n",
            "Requirement already satisfied: importlib-metadata in /usr/local/lib/python3.7/dist-packages (from transformers) (4.6.4)\n",
            "Collecting tokenizers<0.11,>=0.10.1\n",
            "  Downloading tokenizers-0.10.3-cp37-cp37m-manylinux_2_5_x86_64.manylinux1_x86_64.manylinux_2_12_x86_64.manylinux2010_x86_64.whl (3.3 MB)\n",
            "\u001b[K     |████████████████████████████████| 3.3 MB 48.7 MB/s \n",
            "\u001b[?25hCollecting huggingface-hub==0.0.12\n",
            "  Downloading huggingface_hub-0.0.12-py3-none-any.whl (37 kB)\n",
            "Collecting pyyaml>=5.1\n",
            "  Downloading PyYAML-5.4.1-cp37-cp37m-manylinux1_x86_64.whl (636 kB)\n",
            "\u001b[K     |████████████████████████████████| 636 kB 43.1 MB/s \n",
            "\u001b[?25hRequirement already satisfied: typing-extensions in /usr/local/lib/python3.7/dist-packages (from huggingface-hub==0.0.12->transformers) (3.7.4.3)\n",
            "Requirement already satisfied: pyparsing>=2.0.2 in /usr/local/lib/python3.7/dist-packages (from packaging->transformers) (2.4.7)\n",
            "Requirement already satisfied: zipp>=0.5 in /usr/local/lib/python3.7/dist-packages (from importlib-metadata->transformers) (3.5.0)\n",
            "Requirement already satisfied: chardet<4,>=3.0.2 in /usr/local/lib/python3.7/dist-packages (from requests->transformers) (3.0.4)\n",
            "Requirement already satisfied: urllib3!=1.25.0,!=1.25.1,<1.26,>=1.21.1 in /usr/local/lib/python3.7/dist-packages (from requests->transformers) (1.24.3)\n",
            "Requirement already satisfied: certifi>=2017.4.17 in /usr/local/lib/python3.7/dist-packages (from requests->transformers) (2021.5.30)\n",
            "Requirement already satisfied: idna<3,>=2.5 in /usr/local/lib/python3.7/dist-packages (from requests->transformers) (2.10)\n",
            "Requirement already satisfied: six in /usr/local/lib/python3.7/dist-packages (from sacremoses->transformers) (1.15.0)\n",
            "Requirement already satisfied: click in /usr/local/lib/python3.7/dist-packages (from sacremoses->transformers) (7.1.2)\n",
            "Requirement already satisfied: joblib in /usr/local/lib/python3.7/dist-packages (from sacremoses->transformers) (1.0.1)\n",
            "Installing collected packages: tokenizers, sacremoses, pyyaml, huggingface-hub, transformers\n",
            "  Attempting uninstall: pyyaml\n",
            "    Found existing installation: PyYAML 3.13\n",
            "    Uninstalling PyYAML-3.13:\n",
            "      Successfully uninstalled PyYAML-3.13\n",
            "Successfully installed huggingface-hub-0.0.12 pyyaml-5.4.1 sacremoses-0.0.45 tokenizers-0.10.3 transformers-4.9.2\n"
          ]
        }
      ]
    },
    {
      "cell_type": "code",
      "metadata": {
        "colab": {
          "background_save": true,
          "base_uri": "https://localhost:8080/"
        },
        "id": "rdvI6GmjZzs_",
        "outputId": "7c6ab698-3852-48f5-f215-a64a6ba8ae91"
      },
      "source": [
        "!bash /content/intent-capsnet-pytorch/exec_train.sh"
      ],
      "execution_count": null,
      "outputs": [
        {
          "name": "stdout",
          "output_type": "stream",
          "text": [
            "Namespace(alpha=0.0001, batch_size=16, bert_embedding_frozen=False, ckpt_dir='saved_models/bert_capsnet/zero_shot', d_a=80, data_dir='data', dropout=0.0, gpu='0', learning_rate=0.0001, max_len=128, mode='zero_shot', model_type='bert_capsnet', num_epochs=10, num_iters=1, num_layers=1, num_props=10, r=3, raw_dir='raw', seed=0, sim_scale=1, train_frac=0.9, train_prefix='train', valid_prefix='valid')\n",
            "Reading dataset...\n",
            "Splitting raw data and saving into txt files...\n",
            "100% 22/22 [00:00<00:00, 6705.52it/s]\n",
            "The size of train set: 4820\n",
            "The size of valid set: 101\n",
            "100% 4820/4820 [00:00<00:00, 791967.14it/s]\n",
            "100% 101/101 [00:00<00:00, 381643.88it/s]\n",
            "Loading BertTokenizer...\n",
            "Preprocessing train/test data...\n",
            "Processing data/zero_shot/train.txt...\n",
            "100% 4820/4820 [00:02<00:00, 2064.92it/s]\n",
            "Processing data/zero_shot/valid.txt...\n",
            "100% 101/101 [00:00<00:00, 1790.30it/s]\n",
            "Loading model & optimizer...\n",
            "Some weights of the model checkpoint at bert-base-uncased were not used when initializing BertModel: ['cls.predictions.decoder.weight', 'cls.predictions.transform.dense.bias', 'cls.predictions.transform.dense.weight', 'cls.predictions.transform.LayerNorm.weight', 'cls.predictions.bias', 'cls.predictions.transform.LayerNorm.bias', 'cls.seq_relationship.weight', 'cls.seq_relationship.bias']\n",
            "- This IS expected if you are initializing BertModel from the checkpoint of a model trained on another task or with another architecture (e.g. initializing a BertForSequenceClassification model from a BertForPreTraining model).\n",
            "- This IS NOT expected if you are initializing BertModel from the checkpoint of a model that you expect to be exactly identical (initializing a BertForSequenceClassification model from a BertForSequenceClassification model).\n",
            "Training starts.\n",
            "100% 302/302 [03:30<00:00,  1.44it/s]\n",
            "################### Epoch: 1 ###################\n",
            "Train loss: 2.061678171157837\n",
            "Train Acc: 0.7631 || Train F1: 0.6868\n",
            "Train time: 210.2664\n",
            "100% 7/7 [00:01<00:00,  4.83it/s]\n",
            "************ Best model saved! ************\n",
            "------------------------------------------------------\n",
            "Best Validation Acc: 0.802\n",
            "Validation Acc: 0.802 || Current Validation F1: 0.7139\n",
            "Validation time 1.4505\n",
            "100% 302/302 [03:31<00:00,  1.43it/s]\n",
            "################### Epoch: 2 ###################\n",
            "Train loss: 9.608619689941406\n",
            "Train Acc: 0.7662 || Train F1: 0.6938\n",
            "Train time: 211.4463\n",
            "100% 7/7 [00:01<00:00,  4.85it/s]\n",
            "------------------------------------------------------\n",
            "Best Validation Acc: 0.802\n",
            "Validation Acc: 0.802 || Current Validation F1: 0.7139\n",
            "Validation time 1.445\n",
            "100% 302/302 [03:31<00:00,  1.43it/s]\n",
            "################### Epoch: 3 ###################\n",
            "Train loss: 0.6424162983894348\n",
            "Train Acc: 0.7575 || Train F1: 0.6604\n",
            "Train time: 211.4851\n",
            "100% 7/7 [00:01<00:00,  4.84it/s]\n",
            "------------------------------------------------------\n",
            "Best Validation Acc: 0.802\n",
            "Validation Acc: 0.802 || Current Validation F1: 0.7139\n",
            "Validation time 1.4458\n",
            "100% 302/302 [03:31<00:00,  1.43it/s]\n",
            "################### Epoch: 4 ###################\n",
            "Train loss: 5.732372760772705\n",
            "Train Acc: 0.7759 || Train F1: 0.6939\n",
            "Train time: 211.7818\n",
            "100% 7/7 [00:01<00:00,  4.84it/s]\n",
            "------------------------------------------------------\n",
            "Best Validation Acc: 0.802\n",
            "Validation Acc: 0.7624 || Current Validation F1: 0.7139\n",
            "Validation time 1.4466\n",
            "100% 302/302 [03:31<00:00,  1.43it/s]\n",
            "################### Epoch: 5 ###################\n",
            "Train loss: 6.111559867858887\n",
            "Train Acc: 0.7907 || Train F1: 0.703\n",
            "Train time: 211.7783\n",
            "100% 7/7 [00:01<00:00,  4.83it/s]\n",
            "------------------------------------------------------\n",
            "Best Validation Acc: 0.802\n",
            "Validation Acc: 0.703 || Current Validation F1: 0.7073\n",
            "Validation time 1.4495\n",
            "100% 302/302 [03:31<00:00,  1.43it/s]\n",
            "################### Epoch: 6 ###################\n",
            "Train loss: 0.969619870185852\n",
            "Train Acc: 0.7517 || Train F1: 0.6579\n",
            "Train time: 211.6653\n",
            "100% 7/7 [00:01<00:00,  4.86it/s]\n",
            "------------------------------------------------------\n",
            "Best Validation Acc: 0.802\n",
            "Validation Acc: 0.802 || Current Validation F1: 0.7139\n",
            "Validation time 1.4415\n",
            "100% 302/302 [03:31<00:00,  1.43it/s]\n",
            "################### Epoch: 7 ###################\n",
            "Train loss: 0.7855127453804016\n",
            "Train Acc: 0.7519 || Train F1: 0.6454\n",
            "Train time: 211.6691\n",
            "100% 7/7 [00:01<00:00,  4.83it/s]\n",
            "------------------------------------------------------\n",
            "Best Validation Acc: 0.802\n",
            "Validation Acc: 0.802 || Current Validation F1: 0.7139\n",
            "Validation time 1.4488\n",
            "100% 302/302 [03:31<00:00,  1.43it/s]\n",
            "################### Epoch: 8 ###################\n",
            "Train loss: 11.534997940063477\n",
            "Train Acc: 0.755 || Train F1: 0.6496\n",
            "Train time: 211.5797\n",
            "100% 7/7 [00:01<00:00,  4.83it/s]\n",
            "------------------------------------------------------\n",
            "Best Validation Acc: 0.802\n",
            "Validation Acc: 0.802 || Current Validation F1: 0.7139\n",
            "Validation time 1.4482\n",
            "100% 302/302 [03:31<00:00,  1.43it/s]\n",
            "################### Epoch: 9 ###################\n",
            "Train loss: 4.698233127593994\n",
            "Train Acc: 0.751 || Train F1: 0.6443\n",
            "Train time: 211.5608\n",
            "100% 7/7 [00:01<00:00,  4.83it/s]\n",
            "------------------------------------------------------\n",
            "Best Validation Acc: 0.802\n",
            "Validation Acc: 0.802 || Current Validation F1: 0.7139\n",
            "Validation time 1.4485\n",
            "100% 302/302 [03:31<00:00,  1.43it/s]\n",
            "################### Epoch: 10 ###################\n",
            "Train loss: 10.104628562927246\n",
            "Train Acc: 0.7637 || Train F1: 0.6614\n",
            "Train time: 211.6114\n",
            "100% 7/7 [00:01<00:00,  4.85it/s]\n",
            "------------------------------------------------------\n",
            "Best Validation Acc: 0.802\n",
            "Validation Acc: 0.802 || Current Validation F1: 0.7139\n",
            "Validation time 1.4423\n",
            "Overall training time: 2114.8442063331604\n",
            "Overall validation time: 14.466705799102783\n",
            "GOOD BYE.\n"
          ]
        }
      ]
    }
  ]
}